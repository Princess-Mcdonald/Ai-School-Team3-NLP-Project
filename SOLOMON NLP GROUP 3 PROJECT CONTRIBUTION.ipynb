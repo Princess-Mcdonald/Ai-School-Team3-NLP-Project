{
 "cells": [
  {
   "cell_type": "markdown",
   "id": "32ff32e3",
   "metadata": {},
   "source": [
    "## THIS CODE ELIMINATE UNIMPORTANT WORDS"
   ]
  },
  {
   "cell_type": "code",
   "execution_count": null,
   "id": "3e21dcdb",
   "metadata": {},
   "outputs": [],
   "source": [
    "stopwords = stopwords.words('english')"
   ]
  },
  {
   "cell_type": "markdown",
   "id": "635647e6",
   "metadata": {},
   "source": [
    "## THIS CODE EXTRACT THE BASE FORM OF THE WORDS"
   ]
  },
  {
   "cell_type": "code",
   "execution_count": null,
   "id": "4109b89c",
   "metadata": {},
   "outputs": [],
   "source": [
    "df[\"text\"] = df[\"text\"].apply(stemmer)"
   ]
  },
  {
   "cell_type": "markdown",
   "id": "f0367be2",
   "metadata": {},
   "source": [
    "## VIEWING OUR DATA"
   ]
  },
  {
   "cell_type": "code",
   "execution_count": null,
   "id": "c8aaab04",
   "metadata": {},
   "outputs": [],
   "source": [
    "df.head()"
   ]
  },
  {
   "cell_type": "markdown",
   "id": "fdb34f27",
   "metadata": {},
   "source": [
    "## DATA CLEANING"
   ]
  },
  {
   "cell_type": "code",
   "execution_count": null,
   "id": "953f3dd8",
   "metadata": {},
   "outputs": [],
   "source": [
    "df[\"text\"] = df[\"text\"].str.replace(r\"[^\\w\\s]+\", \" \")"
   ]
  },
  {
   "cell_type": "markdown",
   "id": "06c46a2e",
   "metadata": {},
   "source": [
    "## DATA CLEANING"
   ]
  },
  {
   "cell_type": "code",
   "execution_count": null,
   "id": "a8862fe4",
   "metadata": {},
   "outputs": [],
   "source": [
    "df[\"hashtags\"] = df[\"hashtags\"].str.replace(r\"[#,]\", \"\")"
   ]
  },
  {
   "cell_type": "markdown",
   "id": "0373551b",
   "metadata": {},
   "source": [
    "## VIEWING OUR DATA"
   ]
  },
  {
   "cell_type": "code",
   "execution_count": null,
   "id": "3fdf023b",
   "metadata": {},
   "outputs": [],
   "source": [
    "df.head()"
   ]
  },
  {
   "cell_type": "code",
   "execution_count": null,
   "id": "b8b563d4",
   "metadata": {},
   "outputs": [],
   "source": [
    "disaster_df = df[df[\"target\"] == 1]"
   ]
  },
  {
   "cell_type": "markdown",
   "id": "9f213d7c",
   "metadata": {},
   "source": [
    "## VISUALIZING TEXT DATA TO GET INSIGHTS ON TRENDS AND PATTERN"
   ]
  },
  {
   "cell_type": "code",
   "execution_count": null,
   "id": "4375b1f9",
   "metadata": {},
   "outputs": [],
   "source": [
    "wordcloud = WC(\n",
    "  width=800, height=800,\n",
    "  max_words=3000,\n",
    "  colormap=\"Accent\"\n",
    ").generate(\" \".join(disaster_df[\"text\"].str.upper().tolist()))"
   ]
  },
  {
   "cell_type": "markdown",
   "id": "48e34c0f",
   "metadata": {},
   "source": [
    "## FIGURE PLOT OF THE DATA"
   ]
  },
  {
   "cell_type": "code",
   "execution_count": null,
   "id": "e05f0e60",
   "metadata": {},
   "outputs": [],
   "source": [
    "plt.figure(figsize=(20, 20))\n",
    "plt.axis('off')\n",
    "plt.imshow(wordcloud, interpolation=\"bilinear\")"
   ]
  },
  {
   "cell_type": "markdown",
   "id": "8bbeac61",
   "metadata": {},
   "source": [
    "## DEFINING OUR TARGET"
   ]
  },
  {
   "cell_type": "code",
   "execution_count": null,
   "id": "c222775f",
   "metadata": {},
   "outputs": [],
   "source": [
    "X = df[\"text\"]\n",
    "y = df[\"target\"]"
   ]
  },
  {
   "cell_type": "markdown",
   "id": "20455ada",
   "metadata": {},
   "source": [
    "## THIS CODE CONVERT THE TEXT DATA TO NUMERICAL DATA"
   ]
  },
  {
   "cell_type": "code",
   "execution_count": null,
   "id": "6cded435",
   "metadata": {},
   "outputs": [],
   "source": [
    "vec = TfidfVectorizer(\n",
    "  stop_words=\"english\",\n",
    "  max_features=20000,\n",
    "  lowercase=True,\n",
    "  # analyzer=\"char_wb\"\n",
    ")"
   ]
  },
  {
   "cell_type": "markdown",
   "id": "ce2d1d87",
   "metadata": {},
   "source": [
    "## FITTING OUR DATA"
   ]
  },
  {
   "cell_type": "code",
   "execution_count": null,
   "id": "e6e3d4d9",
   "metadata": {},
   "outputs": [],
   "source": [
    "X_trans = vec.fit_transform(X).toarray()"
   ]
  },
  {
   "cell_type": "markdown",
   "id": "665fc87e",
   "metadata": {},
   "source": [
    "## VIEWING FITTED DATA IN DATAFRAME"
   ]
  },
  {
   "cell_type": "code",
   "execution_count": null,
   "id": "abb2b750",
   "metadata": {},
   "outputs": [],
   "source": [
    "X_df = pd.DataFrame(\n",
    "  X_trans, columns=vec.get_feature_names_out()\n",
    ")"
   ]
  },
  {
   "cell_type": "code",
   "execution_count": null,
   "id": "1a8a0b8b",
   "metadata": {},
   "outputs": [],
   "source": [
    "X_df"
   ]
  },
  {
   "cell_type": "markdown",
   "id": "2dac2728",
   "metadata": {},
   "source": [
    "## DATA SPLITTING"
   ]
  },
  {
   "cell_type": "code",
   "execution_count": null,
   "id": "0617aa8c",
   "metadata": {},
   "outputs": [],
   "source": [
    "X_train, X_test, y_train, y_test = train_test_split(\n",
    "  X_df, y, test_size=0.2, random_state=404\n",
    ")"
   ]
  }
 ],
 "metadata": {
  "kernelspec": {
   "display_name": "Python 3 (ipykernel)",
   "language": "python",
   "name": "python3"
  },
  "language_info": {
   "codemirror_mode": {
    "name": "ipython",
    "version": 3
   },
   "file_extension": ".py",
   "mimetype": "text/x-python",
   "name": "python",
   "nbconvert_exporter": "python",
   "pygments_lexer": "ipython3",
   "version": "3.9.7"
  }
 },
 "nbformat": 4,
 "nbformat_minor": 5
}
